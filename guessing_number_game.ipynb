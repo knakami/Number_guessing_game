{
 "cells": [
  {
   "cell_type": "code",
   "execution_count": 8,
   "id": "0b48e879-9f76-428c-be77-2f5dc393ae24",
   "metadata": {},
   "outputs": [
    {
     "name": "stdin",
     "output_type": "stream",
     "text": [
      "Guess the number between 0 and 10:  7\n"
     ]
    },
    {
     "name": "stdout",
     "output_type": "stream",
     "text": [
      "Guess a smaller number.\n"
     ]
    },
    {
     "name": "stdin",
     "output_type": "stream",
     "text": [
      "Guess the number between 0 and 10:  4\n"
     ]
    },
    {
     "name": "stdout",
     "output_type": "stream",
     "text": [
      "Guess a larger number.\n"
     ]
    },
    {
     "name": "stdin",
     "output_type": "stream",
     "text": [
      "Guess the number between 0 and 10:  5\n"
     ]
    },
    {
     "name": "stdout",
     "output_type": "stream",
     "text": [
      "Guess a larger number.\n"
     ]
    },
    {
     "name": "stdin",
     "output_type": "stream",
     "text": [
      "Guess the number between 0 and 10:  6\n"
     ]
    },
    {
     "name": "stdout",
     "output_type": "stream",
     "text": [
      "You guessed it!\n",
      "You guessed it in 4 attempts.\n"
     ]
    }
   ],
   "source": [
    "import random\n",
    "\n",
    "min_number = 0\n",
    "max_number = 10\n",
    "\n",
    "random_number = random.randint(min_number, max_number)\n",
    "guesses = 0\n",
    "\n",
    "while True:\n",
    "    guesses += 1\n",
    "    user_guess_str = input(f\"Guess the number between {min_number} and {max_number}: \")  # number entered through input is always a string\n",
    "    if user_guess_str.isdigit():  # isdigit returns True or False\n",
    "        user_guess = int(user_guess_str)  # before converting the string to int, make sure it is a digit using isdigit\n",
    "\n",
    "        if user_guess == random_number:\n",
    "            print(\"You guessed it!\")\n",
    "            break\n",
    "        elif user_guess < random_number:\n",
    "            print(\"Guess a larger number.\")\n",
    "        else:\n",
    "            print(\"Guess a smaller number.\")\n",
    "    else:\n",
    "        print(\"Please enter a valid number.\")\n",
    "\n",
    "print(\"You guessed it in\", guesses, \"attempts.\")\n"
   ]
  },
  {
   "cell_type": "code",
   "execution_count": null,
   "id": "cc30b957-a415-467f-b75e-b1d4b2f6b33c",
   "metadata": {},
   "outputs": [],
   "source": []
  }
 ],
 "metadata": {
  "kernelspec": {
   "display_name": "Python 3 (ipykernel)",
   "language": "python",
   "name": "python3"
  },
  "language_info": {
   "codemirror_mode": {
    "name": "ipython",
    "version": 3
   },
   "file_extension": ".py",
   "mimetype": "text/x-python",
   "name": "python",
   "nbconvert_exporter": "python",
   "pygments_lexer": "ipython3",
   "version": "3.8.6"
  }
 },
 "nbformat": 4,
 "nbformat_minor": 5
}
